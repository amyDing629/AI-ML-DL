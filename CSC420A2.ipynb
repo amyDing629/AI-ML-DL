{
  "nbformat": 4,
  "nbformat_minor": 0,
  "metadata": {
    "colab": {
      "name": "CSC420A2.ipynb",
      "provenance": [],
      "collapsed_sections": [],
      "include_colab_link": true
    },
    "kernelspec": {
      "display_name": "Python 3",
      "name": "python3"
    },
    "language_info": {
      "name": "python"
    }
  },
  "cells": [
    {
      "cell_type": "markdown",
      "metadata": {
        "id": "view-in-github",
        "colab_type": "text"
      },
      "source": [
        "<a href=\"https://colab.research.google.com/github/amyDing629/AI-ML-DL/blob/main/CSC420A2.ipynb\" target=\"_parent\"><img src=\"https://colab.research.google.com/assets/colab-badge.svg\" alt=\"Open In Colab\"/></a>"
      ]
    },
    {
      "cell_type": "code",
      "metadata": {
        "colab": {
          "base_uri": "https://localhost:8080/"
        },
        "id": "HPNQYSwIU_2X",
        "outputId": "50af5732-12ed-4556-8a97-83936ab064cb"
      },
      "source": [
        "\n",
        "from google.colab import drive\n",
        "drive.mount('/content/drive')\n"
      ],
      "execution_count": null,
      "outputs": [
        {
          "name": "stdout",
          "output_type": "stream",
          "text": [
            "Drive already mounted at /content/drive; to attempt to forcibly remount, call drive.mount(\"/content/drive\", force_remount=True).\n"
          ]
        }
      ]
    },
    {
      "cell_type": "markdown",
      "metadata": {
        "id": "ILd3eWAUHM8e"
      },
      "source": [
        "Note: The code in this file utilizes and modifies some of the code in CSC420H TUT6."
      ]
    },
    {
      "cell_type": "code",
      "metadata": {
        "id": "TGWlerK515qF"
      },
      "source": [
        "import matplotlib.pyplot as plt\n",
        "import numpy as np\n",
        "import shutil\n",
        "import os\n",
        "from torchsummary import summary\n",
        "import sys\n",
        "import tarfile\n",
        "import cv2\n",
        "from IPython.display import display, Image\n",
        "import numpy as np\n",
        "from torchvision import transforms, datasets, models\n",
        "import torch\n",
        "from torch import optim, cuda, nn\n",
        "from torch.utils.data import DataLoader\n",
        "from timeit import default_timer as timer\n",
        "from PIL import UnidentifiedImageError, Image\n",
        "import pandas as pd"
      ],
      "execution_count": null,
      "outputs": []
    },
    {
      "cell_type": "code",
      "metadata": {
        "colab": {
          "base_uri": "https://localhost:8080/"
        },
        "id": "WoD1FijjsHgK",
        "outputId": "eefa834c-5548-4c3c-cf44-8db015369106"
      },
      "source": [
        "num_classes = 10\n",
        "def extract_gz_file(filename):\n",
        "  \"\"\"\n",
        "  Extract tar.gz file. Return directories in the extracted folder.\n",
        "  \"\"\"\n",
        "  # remove .tar.gz\n",
        "  root = os.path.splitext(os.path.splitext(filename)[0])[0]  \n",
        "  if os.path.isdir(root):\n",
        "    print('File %s already present - Skipping extraction' % filename)\n",
        "  else:\n",
        "    tar = tarfile.open('/content/drive/My Drive/'+filename)\n",
        "    sys.stdout.flush()\n",
        "    tar.extractall()\n",
        "    tar.close()\n",
        "  # get sub folder names\n",
        "  data_folders = []\n",
        "  for d in sorted(os.listdir(root)):\n",
        "    directory = os.path.join(root, d)\n",
        "    if os.path.isdir(directory):\n",
        "      data_folders.append(directory)\n",
        "\n",
        "  return data_folders\n",
        "\n",
        "test_filename = 'notMNIST_small.tar.gz'\n",
        "data_folders = extract_gz_file(test_filename)\n",
        "\n",
        "  "
      ],
      "execution_count": null,
      "outputs": [
        {
          "name": "stdout",
          "output_type": "stream",
          "text": [
            "File notMNIST_small.tar.gz already present - Skipping extraction\n"
          ]
        }
      ]
    },
    {
      "cell_type": "code",
      "metadata": {
        "colab": {
          "base_uri": "https://localhost:8080/"
        },
        "id": "s1mIIsW5rxid",
        "outputId": "0ec4f405-d0c1-4450-b0a4-31f57ba6243e"
      },
      "source": [
        "mainfolder_name = ['test', 'train', 'valid']\n",
        "subfolder_name = ['A', 'B', 'C', 'D', 'E', 'F', 'G', 'H', 'I', 'J']\n",
        "def initiate_folders():\n",
        "  \"\"\"\n",
        "  Create test, train, valid main folders and A~J subfolders inside each main folder.\n",
        "  \"\"\"\n",
        "  path = \"/content/notMNIST_small/\"\n",
        "  for mainfolder in mainfolder_name:\n",
        "    try:\n",
        "       os.mkdir(path + mainfolder)\n",
        "       print('path created: ' + path + mainfolder)\n",
        "    except:\n",
        "       # skip if path exists\n",
        "       print('path already exists: ' + path + mainfolder)\n",
        "  for mainfolder in mainfolder_name:\n",
        "    for subfolder in subfolder_name:\n",
        "      try: \n",
        "        os.mkdir(path + mainfolder + '/' + subfolder)\n",
        "        print('path created: ' + path + mainfolder + '/' + subfolder)\n",
        "      # skip if path exists\n",
        "      except:\n",
        "        print('path already exists: ' + path + mainfolder + '/' + subfolder)\n",
        "\n",
        "initiate_folders()"
      ],
      "execution_count": null,
      "outputs": [
        {
          "name": "stdout",
          "output_type": "stream",
          "text": [
            "path already exists: /content/notMNIST_small/test\n",
            "path already exists: /content/notMNIST_small/train\n",
            "path already exists: /content/notMNIST_small/valid\n",
            "path already exists: /content/notMNIST_small/test/A\n",
            "path already exists: /content/notMNIST_small/test/B\n",
            "path already exists: /content/notMNIST_small/test/C\n",
            "path already exists: /content/notMNIST_small/test/D\n",
            "path already exists: /content/notMNIST_small/test/E\n",
            "path already exists: /content/notMNIST_small/test/F\n",
            "path already exists: /content/notMNIST_small/test/G\n",
            "path already exists: /content/notMNIST_small/test/H\n",
            "path already exists: /content/notMNIST_small/test/I\n",
            "path already exists: /content/notMNIST_small/test/J\n",
            "path already exists: /content/notMNIST_small/train/A\n",
            "path already exists: /content/notMNIST_small/train/B\n",
            "path already exists: /content/notMNIST_small/train/C\n",
            "path already exists: /content/notMNIST_small/train/D\n",
            "path already exists: /content/notMNIST_small/train/E\n",
            "path already exists: /content/notMNIST_small/train/F\n",
            "path already exists: /content/notMNIST_small/train/G\n",
            "path already exists: /content/notMNIST_small/train/H\n",
            "path already exists: /content/notMNIST_small/train/I\n",
            "path already exists: /content/notMNIST_small/train/J\n",
            "path already exists: /content/notMNIST_small/valid/A\n",
            "path already exists: /content/notMNIST_small/valid/B\n",
            "path already exists: /content/notMNIST_small/valid/C\n",
            "path already exists: /content/notMNIST_small/valid/D\n",
            "path already exists: /content/notMNIST_small/valid/E\n",
            "path already exists: /content/notMNIST_small/valid/F\n",
            "path already exists: /content/notMNIST_small/valid/G\n",
            "path already exists: /content/notMNIST_small/valid/H\n",
            "path already exists: /content/notMNIST_small/valid/I\n",
            "path already exists: /content/notMNIST_small/valid/J\n"
          ]
        }
      ]
    },
    {
      "cell_type": "code",
      "metadata": {
        "id": "q8Xjow68tuq3"
      },
      "source": [
        "def separate_folder():\n",
        "  \"\"\"\n",
        "  Move files from nonMINIST_small to the three main folders.\n",
        "  \"\"\"\n",
        "  for subfolder in subfolder_name:\n",
        "    image_files = os.listdir('notMNIST_small/' + subfolder)\n",
        "    i = 0\n",
        "    while i < 1500:\n",
        "      shutil.copyfile('notMNIST_small/' + subfolder + '/' + image_files[i], \n",
        "                      'notMNIST_small/train/' + subfolder + '/' + image_files[i])\n",
        "      i += 1\n",
        "    \n",
        "    while i >= 1500 and i < 1600:\n",
        "      shutil.copyfile('notMNIST_small/' + subfolder + '/' + image_files[i], \n",
        "                      'notMNIST_small/valid/' + subfolder + '/' + image_files[i])\n",
        "      i += 1\n",
        "\n",
        "    while i < len(image_files):\n",
        "      shutil.copyfile('notMNIST_small/' + subfolder + '/' + image_files[i], \n",
        "                      'notMNIST_small/test/' + subfolder + '/' + image_files[i])\n",
        "      i += 1\n",
        "      \n",
        "separate_folder()\n"
      ],
      "execution_count": null,
      "outputs": []
    },
    {
      "cell_type": "code",
      "metadata": {
        "colab": {
          "base_uri": "https://localhost:8080/"
        },
        "id": "gLiiGptFAoAV",
        "outputId": "57006ee2-4f81-41bd-af70-4cfe098bb554"
      },
      "source": [
        "def remove_crushed_files():\n",
        "  \"\"\"\n",
        "  Remove files that cannot be read and print files removed.\n",
        "  \"\"\"\n",
        "  for route in mainfolder_name:\n",
        "    for subfolder in subfolder_name:\n",
        "      subfolder_path = 'notMNIST_small/' + route + '/' + subfolder\n",
        "      image_files = os.listdir(subfolder_path)\n",
        "      for image in image_files:\n",
        "        image_path = subfolder_path + '/' + image\n",
        "        try:\n",
        "          im = Image.open(image_path)\n",
        "          im.load()\n",
        "        except UnidentifiedImageError:\n",
        "          os.remove(image_path)\n",
        "          print(f'remove {image_path}')\n",
        "\n",
        "remove_crushed_files()\n"
      ],
      "execution_count": null,
      "outputs": [
        {
          "name": "stdout",
          "output_type": "stream",
          "text": [
            "remove notMNIST_small/train/A/RGVtb2NyYXRpY2FCb2xkT2xkc3R5bGUgQm9sZC50dGY=.png\n",
            "remove notMNIST_small/train/F/Q3Jvc3NvdmVyIEJvbGRPYmxpcXVlLnR0Zg==.png\n"
          ]
        }
      ]
    },
    {
      "cell_type": "code",
      "metadata": {
        "id": "Rpf-45-tDcxc"
      },
      "source": [
        "train_dir = \"/content/notMNIST_small/train\"\n",
        "valid_dir = \"/content/notMNIST_small/test\"\n",
        "test_dir = \"/content/notMNIST_small/valid\"\n",
        "\n",
        "data = {\n",
        "    'train':\n",
        "        datasets.ImageFolder(\n",
        "            root=train_dir, \n",
        "            transform=transforms.Compose(\n",
        "                # transform image to tensor\n",
        "                [transforms.ToTensor(),\n",
        "                 # change image to one channel and flatten images (784 = 28*28) \n",
        "                transforms.Lambda(lambda x: x[0, :, :].reshape(784))]\n",
        "                \n",
        "            )\n",
        "        ),\n",
        "    'val':\n",
        "        datasets.ImageFolder(\n",
        "            root=valid_dir, \n",
        "            transform=transforms.Compose(\n",
        "                [transforms.ToTensor(), \n",
        "                transforms.Lambda(lambda x: x[0, :, :].reshape(784))]\n",
        "            )\n",
        "        ),\n",
        "    'test':\n",
        "        datasets.ImageFolder(\n",
        "            root=test_dir, \n",
        "            transform=transforms.Compose(\n",
        "                [transforms.ToTensor(), \n",
        "                transforms.Lambda(lambda x: x[0, :, :].reshape(784))]\n",
        "            )\n",
        "        ),\n",
        "}\n",
        "# Load data in dataloaders, batch size is set to 128, shuffle when loading.\n",
        "dataloaders = {\n",
        "    'train': DataLoader(data['train'], batch_size = 128, shuffle=True),\n",
        "    'val': DataLoader(data['val'], batch_size = 128, shuffle=True),\n",
        "    'test': DataLoader(data['test'], batch_size = 128, shuffle=True)\n",
        "}"
      ],
      "execution_count": null,
      "outputs": []
    },
    {
      "cell_type": "code",
      "metadata": {
        "colab": {
          "base_uri": "https://localhost:8080/"
        },
        "id": "dJhXdmNg5EiB",
        "outputId": "9119892a-49fa-40df-d293-7d5e0fcb35d7"
      },
      "source": [
        "# For checking torch size\n",
        "trainiter = iter(dataloaders['train'])\n",
        "features, labels = next(trainiter)\n",
        "features.shape, labels.shape\n"
      ],
      "execution_count": null,
      "outputs": [
        {
          "data": {
            "text/plain": [
              "(torch.Size([128, 784]), torch.Size([128]))"
            ]
          },
          "execution_count": 187,
          "metadata": {},
          "output_type": "execute_result"
        }
      ]
    },
    {
      "cell_type": "code",
      "metadata": {
        "id": "twrIIYstIO70"
      },
      "source": [
        "\n",
        "class Network(nn.Module):\n",
        "    \"\"\"\n",
        "    Define a training model.\n",
        "    \"\"\"\n",
        "    def __init__(self, n_inputs, hidden_size, n_outputs):\n",
        "      \"\"\"\n",
        "      n_inputs: input size\n",
        "      hidden_size: the number of nodes in each layer. \n",
        "      (NOTE: here we assume that each layer size is the same, \n",
        "      which works here but might not work in other cases)\n",
        "      \"\"\"\n",
        "      super().__init__()\n",
        "      \n",
        "      self.hidden = nn.Linear(n_inputs, hidden_size)\n",
        "\n",
        "      # TODO: uncomment for two layers\n",
        "      # self.hidden2 = nn.Linear(hidden_size, hidden_size) \n",
        "      \n",
        "      \n",
        "      self.output = nn.Linear(hidden_size, 10)\n",
        "      \n",
        "      # Define activation function. \n",
        "      self.act = nn.ReLU()\n",
        "      # Define softmax function.\n",
        "      self.softmax = nn.Softmax(dim=1)\n",
        "        \n",
        "    def forward(self, x):\n",
        "        # Pass the input tensor through each of our operations\n",
        "        x = self.hidden(x)\n",
        "        x = self.act(x)\n",
        "        \n",
        "        # TODO: uncomment for two layers\n",
        "        # x = self.hidden2(x)\n",
        "        # x = self.act(x)\n",
        "\n",
        "        x = self.output(x)\n",
        "        x = self.softmax(x)\n",
        "        return x\n",
        "   "
      ],
      "execution_count": null,
      "outputs": []
    },
    {
      "cell_type": "code",
      "metadata": {
        "colab": {
          "base_uri": "https://localhost:8080/"
        },
        "id": "k2FdEy1uLI-Z",
        "outputId": "254600dd-1835-4fd3-9ff0-3539fb56256f"
      },
      "source": [
        "input_size = 784\n",
        "hidden_size = 1000 #TODO: update to change hidden layer size\n",
        "output_size = 10\n",
        "model = Network(input_size, hidden_size, output_size)\n",
        "# Build a feed-forward network\n",
        "# second way for building the model\n",
        "# model = nn.Sequential(nn.Linear(input_size, hidden_size),\n",
        "#                       # nn.Dropout(0.5), #TODO: comment out dropout\n",
        "#                       nn.ReLU(),\n",
        "#                       # TODO: uncomment for two layers\n",
        "#                       # nn.Linear(hidden_size, hidden_size),\n",
        "#                       # nn.ReLU(),\n",
        "#                       nn.Linear(hidden_size, output_size),\n",
        "#                       nn.Softmax(dim=1))\n",
        "print(model)\n",
        "\n"
      ],
      "execution_count": null,
      "outputs": [
        {
          "name": "stdout",
          "output_type": "stream",
          "text": [
            "Network(\n",
            "  (hidden): Linear(in_features=784, out_features=1000, bias=True)\n",
            "  (output): Linear(in_features=1000, out_features=10, bias=True)\n",
            "  (act): ReLU()\n",
            "  (softmax): Softmax(dim=1)\n",
            ")\n"
          ]
        }
      ]
    },
    {
      "cell_type": "code",
      "metadata": {
        "colab": {
          "base_uri": "https://localhost:8080/"
        },
        "id": "AXX8C9QpMxHA",
        "outputId": "1a3addae-6f22-491d-cda8-e51c653a6a02"
      },
      "source": [
        "criterion = nn.NLLLoss()\n",
        "optimizer = optim.Adam(model.parameters(), lr = 0.0002) #TODO: update lr to change learning rate\n",
        "for p in optimizer.param_groups[0]['params']:\n",
        "    if p.requires_grad:\n",
        "        print(p.shape)\n",
        "total_params = sum(p.numel() for p in model.parameters())\n",
        "print(f'{total_params:,} total parameters.')\n",
        "total_trainable_params = sum(\n",
        "    p.numel() for p in model.parameters() if p.requires_grad)\n",
        "print(f'{total_trainable_params:,} training parameters.')"
      ],
      "execution_count": null,
      "outputs": [
        {
          "name": "stdout",
          "output_type": "stream",
          "text": [
            "torch.Size([1000, 784])\n",
            "torch.Size([1000])\n",
            "torch.Size([10, 1000])\n",
            "torch.Size([10])\n",
            "795,010 total parameters.\n",
            "795,010 training parameters.\n"
          ]
        }
      ]
    },
    {
      "cell_type": "code",
      "metadata": {
        "colab": {
          "base_uri": "https://localhost:8080/"
        },
        "id": "uCggj_ar3bFi",
        "outputId": "701f05fc-73c7-4c94-d009-44298d50d8f5"
      },
      "source": [
        "summary(\n",
        "        model, input_size=(3, 784), batch_size=128, device='cuda')"
      ],
      "execution_count": null,
      "outputs": [
        {
          "name": "stdout",
          "output_type": "stream",
          "text": [
            "----------------------------------------------------------------\n",
            "        Layer (type)               Output Shape         Param #\n",
            "================================================================\n",
            "            Linear-1             [128, 3, 1000]         785,000\n",
            "              ReLU-2             [128, 3, 1000]               0\n",
            "            Linear-3               [128, 3, 10]          10,010\n",
            "           Softmax-4               [128, 3, 10]               0\n",
            "================================================================\n",
            "Total params: 795,010\n",
            "Trainable params: 795,010\n",
            "Non-trainable params: 0\n",
            "----------------------------------------------------------------\n",
            "Input size (MB): 1.15\n",
            "Forward/backward pass size (MB): 5.92\n",
            "Params size (MB): 3.03\n",
            "Estimated Total Size (MB): 10.10\n",
            "----------------------------------------------------------------\n"
          ]
        }
      ]
    },
    {
      "cell_type": "code",
      "metadata": {
        "id": "IUGURnVIEflE"
      },
      "source": [
        "def train(model,\n",
        "          criterion,\n",
        "          optimizer,\n",
        "          train_loader,\n",
        "          valid_loader,\n",
        "          test_loader,\n",
        "          save_file_name,\n",
        "          max_epochs_stop=3,\n",
        "          n_epochs=20,\n",
        "          print_every=2):\n",
        "    \"\"\"Train a PyTorch Model\n",
        "\n",
        "    Params\n",
        "    --------\n",
        "        model (PyTorch model): cnn to train\n",
        "        criterion (PyTorch loss): objective to minimize\n",
        "        optimizer (PyTorch optimizier): optimizer to compute gradients of model parameters\n",
        "        train_loader (PyTorch dataloader): training dataloader to iterate through\n",
        "        valid_loader (PyTorch dataloader): validation dataloader used for early stopping\n",
        "        test_loader (PyTorch dataloader): test dataloader for testing accuracy\n",
        "        save_file_name (str ending in '.pt'): file path to save the model state dict\n",
        "        max_epochs_stop (int): maximum number of epochs with no improvement in validation loss for early stopping\n",
        "        n_epochs (int): maximum number of training epochs\n",
        "        print_every (int): frequency of epochs to print training stats\n",
        "\n",
        "    Returns\n",
        "    --------\n",
        "        model (PyTorch model): trained cnn with best weights\n",
        "        history (DataFrame): history of train and validation loss and accuracy\n",
        "    \"\"\"\n",
        "\n",
        "    # Early stopping intialization\n",
        "    epochs_no_improve = 0\n",
        "    valid_loss_min = np.Inf\n",
        "\n",
        "    valid_max_acc = 0\n",
        "    history = []\n",
        "\n",
        "    # Number of epochs already trained (if using loaded in model weights)\n",
        "    try:\n",
        "        print(f'Model has been trained for: {model.epochs} epochs.\\n')\n",
        "    except:\n",
        "        model.epochs = 0\n",
        "        print(f'Starting Training from Scratch.\\n')\n",
        "\n",
        "    overall_start = timer()\n",
        "\n",
        "    # Main loop\n",
        "    for epoch in range(n_epochs):\n",
        "\n",
        "        # keep track of training and validation loss each epoch\n",
        "        train_loss = 0.0\n",
        "        valid_loss = 0.0\n",
        "        test_loss = 0.0\n",
        "\n",
        "        train_acc = 0\n",
        "        valid_acc = 0\n",
        "        test_acc = 0\n",
        "\n",
        "        # Set to training\n",
        "        model.train()\n",
        "        start = timer()\n",
        "\n",
        "        # Training loop\n",
        "        for ii, (data, target) in enumerate(train_loader):\n",
        "            # Tensors to gpu\n",
        "            if train_on_gpu:\n",
        "                data, target = data.cuda(), target.cuda()\n",
        "\n",
        "            # Clear gradients\n",
        "            optimizer.zero_grad()\n",
        "            # Predicted outputs are log probabilities\n",
        "            output = model(data)\n",
        "            # Loss and backpropagation of gradients\n",
        "            loss = criterion(output, target)\n",
        "            loss.backward()\n",
        "\n",
        "            # Update the parameters\n",
        "            optimizer.step()\n",
        "\n",
        "            # Track train loss by multiplying average loss by number of examples in batch\n",
        "            train_loss += loss.item() * data.size(0)\n",
        "\n",
        "            # Calculate accuracy by finding max log probability\n",
        "            _, pred = torch.max(output, dim=1)\n",
        "            correct_tensor = pred.eq(target.data.view_as(pred))\n",
        "            # Need to convert correct tensor from int to float to average\n",
        "            accuracy = torch.mean(correct_tensor.type(torch.FloatTensor))\n",
        "            # Multiply average accuracy times the number of examples in batch\n",
        "            train_acc += accuracy.item() * data.size(0)\n",
        "\n",
        "            # Track training progress\n",
        "            print(\n",
        "                f'Epoch: {epoch}\\t{100 * (ii + 1) / len(train_loader):.2f}%'\\\n",
        "                f' complete. {timer() - start:.2f} seconds elapsed in epoch.',\n",
        "                end='\\r')\n",
        "\n",
        "        # After training loops ends, start validation\n",
        "        else:\n",
        "            model.epochs += 1\n",
        "\n",
        "            # Don't need to keep track of gradients\n",
        "            with torch.no_grad():\n",
        "                # Set to evaluation mode\n",
        "                model.eval()\n",
        "\n",
        "                # Validation loop\n",
        "                for data, target in valid_loader:\n",
        "                    # Tensors to gpu\n",
        "                    if train_on_gpu:\n",
        "                        data, target = data.cuda(), target.cuda()\n",
        "\n",
        "                    # Forward pass\n",
        "                    output = model(data)\n",
        "\n",
        "                    # Validation loss\n",
        "                    loss = criterion(output, target)\n",
        "                    # Multiply average loss times the number of examples in batch\n",
        "                    valid_loss += loss.item() * data.size(0)\n",
        "\n",
        "                    # Calculate validation accuracy\n",
        "                    _, pred = torch.max(output, dim=1)\n",
        "                    correct_tensor = pred.eq(target.data.view_as(pred))\n",
        "                    accuracy = torch.mean(\n",
        "                        correct_tensor.type(torch.FloatTensor))\n",
        "                    # Multiply average accuracy times the number of examples\n",
        "                    valid_acc += accuracy.item() * data.size(0)\n",
        "\n",
        "                # Test loop\n",
        "                for data, target in test_loader:\n",
        "                    # Tensors to gpu\n",
        "                    if train_on_gpu:\n",
        "                        data, target = data.cuda(), target.cuda()\n",
        "\n",
        "                    # Forward pass\n",
        "                    output = model(data)\n",
        "\n",
        "                    # Test loss\n",
        "                    loss = criterion(output, target)\n",
        "                    # Multiply average loss times the number of examples in batch\n",
        "                    test_loss += loss.item() * data.size(0)\n",
        "\n",
        "                    # Calculate test accuracy\n",
        "                    _, pred = torch.max(output, dim=1)\n",
        "                    correct_tensor = pred.eq(target.data.view_as(pred))\n",
        "                    accuracy = torch.mean(\n",
        "                        correct_tensor.type(torch.FloatTensor))\n",
        "                    # Multiply average accuracy times the number of examples\n",
        "                    test_acc += accuracy.item() * data.size(0)\n",
        "\n",
        "                # Calculate average losses\n",
        "                train_loss = train_loss / len(train_loader.dataset)\n",
        "                valid_loss = valid_loss / len(valid_loader.dataset)\n",
        "                test_loss = test_loss / len(test_loader.dataset)\n",
        "                # Calculate average accuracy\n",
        "                train_acc = train_acc / len(train_loader.dataset)\n",
        "                valid_acc = valid_acc / len(valid_loader.dataset)\n",
        "                test_acc = test_acc / len(test_loader.dataset)\n",
        "\n",
        "                history.append([train_loss, valid_loss, test_loss, train_acc, valid_acc, test_acc])\n",
        "\n",
        "                # Print training and validation results\n",
        "                if (epoch + 1) % print_every == 0:\n",
        "                    print(\n",
        "                        f'\\nEpoch: {epoch} \\tTraining Loss: {train_loss:.4f}%'\\\n",
        "                        f' \\t Validation Loss: {valid_loss:.4f}% '\\\n",
        "                        f'\\t Test Loss: {test_loss:.4f}%'\n",
        "                    )\n",
        "                    print(\n",
        "                        f'\\t\\tTraining Accuracy: {100 * train_acc:.2f}% '\\\n",
        "                        f'\\t Validation Accuracy: {100 * valid_acc:.2f}% \\t '\\\n",
        "                        f'Test Accuracy: {100 * test_acc:.2f}%'\n",
        "                    )\n",
        "\n",
        "                # Save the model if validation loss decreases\n",
        "                if valid_loss < valid_loss_min:\n",
        "                    # Save model\n",
        "                    torch.save(model.state_dict(), save_file_name)\n",
        "                    # Track improvement\n",
        "                    epochs_no_improve = 0\n",
        "                    valid_loss_min = valid_loss\n",
        "                    valid_best_acc = valid_acc\n",
        "                    best_epoch = epoch\n",
        "\n",
        "                # Otherwise increment count of epochs with no improvement\n",
        "                else:\n",
        "                    epochs_no_improve += 1\n",
        "                    # Trigger early stopping\n",
        "                    if epochs_no_improve >= max_epochs_stop:\n",
        "                        print(\n",
        "                            f'\\nEarly Stopping! Total epochs: {epoch}. '\\\n",
        "                            f'Best epoch: {best_epoch} with loss: '\\\n",
        "                            f'{valid_loss_min:.2f} and '\\\n",
        "                            f'acc: {100 * valid_acc:.2f}%'\n",
        "                        )\n",
        "                        total_time = timer() - overall_start\n",
        "                        print(\n",
        "                            f'{total_time:.2f} total seconds elapsed. '\\\n",
        "                            f'{total_time / (epoch+1):.2f} seconds per epoch.'\n",
        "                        )\n",
        "\n",
        "                        # Load the best state dict\n",
        "                        model.load_state_dict(torch.load(save_file_name))\n",
        "                        # Attach the optimizer\n",
        "                        model.optimizer = optimizer\n",
        "\n",
        "                        # Format history\n",
        "                        history = pd.DataFrame(\n",
        "                            history,\n",
        "                            columns=[\n",
        "                                'train_loss', 'valid_loss', 'test_loss', 'train_acc',\n",
        "                                'valid_acc', 'test_acc'\n",
        "                            ])\n",
        "                        return model, history\n",
        "\n",
        "    # Attach the optimizer\n",
        "    model.optimizer = optimizer\n",
        "    # Record overall time and print out stats\n",
        "    total_time = timer() - overall_start\n",
        "    print(\n",
        "        f'\\nBest epoch: {best_epoch} with loss: {valid_loss_min:.2f} and acc: {100 * valid_acc:.2f}%'\n",
        "    )\n",
        "    print(\n",
        "        f'{total_time:.2f} total seconds elapsed. {total_time / (epoch):.2f} seconds per epoch.'\n",
        "    )\n",
        "    # Format history\n",
        "    history = pd.DataFrame(\n",
        "        history,\n",
        "        columns=['train_loss', \n",
        "                'valid_loss', \n",
        "                 'test_loss', \n",
        "                 'train_acc', \n",
        "                 'valid_acc', \n",
        "                 'test_acc'])\n",
        "    return model, history\n",
        "    "
      ],
      "execution_count": null,
      "outputs": []
    },
    {
      "cell_type": "code",
      "metadata": {
        "colab": {
          "background_save": true,
          "base_uri": "https://localhost:8080/"
        },
        "id": "3y9F6Q7WHf8K",
        "outputId": "e1b2b769-6689-496b-cd9c-5312f6eb760d"
      },
      "source": [
        "save_file_name = 'onelayer-finetuned.pt'\n",
        "train_on_gpu = False\n",
        "model, history = train(\n",
        "    model,\n",
        "    criterion,\n",
        "    optimizer,\n",
        "    dataloaders['train'],\n",
        "    dataloaders['val'],\n",
        "    dataloaders['test'],\n",
        "    save_file_name=save_file_name,\n",
        "    max_epochs_stop=5,\n",
        "    n_epochs=200,\n",
        "    print_every=2)"
      ],
      "execution_count": null,
      "outputs": [
        {
          "name": "stdout",
          "output_type": "stream",
          "text": [
            "Starting Training from Scratch.\n",
            "\n",
            "\n",
            "Epoch: 1 \tTraining Loss: -0.8484% \t Validation Loss: -0.8722% \t Test Loss: -0.8411%\n",
            "\t\tTraining Accuracy: 87.96% \t Validation Accuracy: 89.21% \t Test Accuracy: 85.50%\n",
            "\n",
            "Epoch: 3 \tTraining Loss: -0.8825% \t Validation Loss: -0.8897% \t Test Loss: -0.8678%\n",
            "\t\tTraining Accuracy: 89.82% \t Validation Accuracy: 89.84% \t Test Accuracy: 88.20%\n",
            "\n",
            "Epoch: 5 \tTraining Loss: -0.8948% \t Validation Loss: -0.8964% \t Test Loss: -0.8794%\n",
            "\t\tTraining Accuracy: 90.69% \t Validation Accuracy: 90.17% \t Test Accuracy: 89.10%\n",
            "\n",
            "Epoch: 7 \tTraining Loss: -0.9035% \t Validation Loss: -0.9020% \t Test Loss: -0.8850%\n",
            "\t\tTraining Accuracy: 91.51% \t Validation Accuracy: 90.68% \t Test Accuracy: 89.60%\n",
            "\n",
            "Epoch: 9 \tTraining Loss: -0.9100% \t Validation Loss: -0.9056% \t Test Loss: -0.8882%\n",
            "\t\tTraining Accuracy: 91.95% \t Validation Accuracy: 91.16% \t Test Accuracy: 89.50%\n",
            "\n",
            "Epoch: 11 \tTraining Loss: -0.9150% \t Validation Loss: -0.9088% \t Test Loss: -0.8874%\n",
            "\t\tTraining Accuracy: 92.41% \t Validation Accuracy: 91.27% \t Test Accuracy: 89.50%\n",
            "\n",
            "Epoch: 13 \tTraining Loss: -0.9195% \t Validation Loss: -0.9076% \t Test Loss: -0.8884%\n",
            "\t\tTraining Accuracy: 92.67% \t Validation Accuracy: 91.27% \t Test Accuracy: 89.50%\n",
            "\n",
            "Epoch: 15 \tTraining Loss: -0.9225% \t Validation Loss: -0.9105% \t Test Loss: -0.8901%\n",
            "\t\tTraining Accuracy: 93.01% \t Validation Accuracy: 91.49% \t Test Accuracy: 89.70%\n",
            "\n",
            "Epoch: 17 \tTraining Loss: -0.9254% \t Validation Loss: -0.9118% \t Test Loss: -0.8913%\n",
            "\t\tTraining Accuracy: 93.21% \t Validation Accuracy: 91.38% \t Test Accuracy: 89.50%\n",
            "\n",
            "Epoch: 19 \tTraining Loss: -0.9284% \t Validation Loss: -0.9097% \t Test Loss: -0.8923%\n",
            "\t\tTraining Accuracy: 93.47% \t Validation Accuracy: 91.23% \t Test Accuracy: 89.80%\n",
            "\n",
            "Epoch: 21 \tTraining Loss: -0.9306% \t Validation Loss: -0.9108% \t Test Loss: -0.8918%\n",
            "\t\tTraining Accuracy: 93.61% \t Validation Accuracy: 91.56% \t Test Accuracy: 89.50%\n",
            "\n",
            "Epoch: 23 \tTraining Loss: -0.9330% \t Validation Loss: -0.9139% \t Test Loss: -0.8964%\n",
            "\t\tTraining Accuracy: 93.86% \t Validation Accuracy: 91.67% \t Test Accuracy: 90.10%\n",
            "\n",
            "Epoch: 25 \tTraining Loss: -0.9352% \t Validation Loss: -0.9150% \t Test Loss: -0.8966%\n",
            "\t\tTraining Accuracy: 94.01% \t Validation Accuracy: 91.82% \t Test Accuracy: 90.00%\n",
            "\n",
            "Epoch: 27 \tTraining Loss: -0.9371% \t Validation Loss: -0.9153% \t Test Loss: -0.8962%\n",
            "\t\tTraining Accuracy: 94.17% \t Validation Accuracy: 91.82% \t Test Accuracy: 90.30%\n",
            "\n",
            "Epoch: 29 \tTraining Loss: -0.9388% \t Validation Loss: -0.9149% \t Test Loss: -0.8944%\n",
            "\t\tTraining Accuracy: 94.27% \t Validation Accuracy: 91.75% \t Test Accuracy: 89.80%\n",
            "\n",
            "Epoch: 31 \tTraining Loss: -0.9399% \t Validation Loss: -0.9170% \t Test Loss: -0.8971%\n",
            "\t\tTraining Accuracy: 94.37% \t Validation Accuracy: 91.78% \t Test Accuracy: 90.00%\n",
            "\n",
            "Epoch: 33 \tTraining Loss: -0.9415% \t Validation Loss: -0.9162% \t Test Loss: -0.8970%\n",
            "\t\tTraining Accuracy: 94.47% \t Validation Accuracy: 91.97% \t Test Accuracy: 90.10%\n",
            "\n",
            "Epoch: 35 \tTraining Loss: -0.9431% \t Validation Loss: -0.9179% \t Test Loss: -0.8984%\n",
            "\t\tTraining Accuracy: 94.63% \t Validation Accuracy: 92.04% \t Test Accuracy: 90.30%\n",
            "\n",
            "Epoch: 37 \tTraining Loss: -0.9441% \t Validation Loss: -0.9183% \t Test Loss: -0.8972%\n",
            "\t\tTraining Accuracy: 94.75% \t Validation Accuracy: 92.08% \t Test Accuracy: 90.00%\n",
            "\n",
            "Epoch: 39 \tTraining Loss: -0.9447% \t Validation Loss: -0.9197% \t Test Loss: -0.8966%\n",
            "\t\tTraining Accuracy: 94.78% \t Validation Accuracy: 92.33% \t Test Accuracy: 89.80%\n",
            "\n",
            "Epoch: 41 \tTraining Loss: -0.9464% \t Validation Loss: -0.9194% \t Test Loss: -0.8963%\n",
            "\t\tTraining Accuracy: 94.88% \t Validation Accuracy: 92.15% \t Test Accuracy: 90.20%\n",
            "\n",
            "Epoch: 43 \tTraining Loss: -0.9460% \t Validation Loss: -0.9202% \t Test Loss: -0.8981%\n",
            "\t\tTraining Accuracy: 94.83% \t Validation Accuracy: 92.04% \t Test Accuracy: 90.10%\n",
            "\n",
            "Epoch: 45 \tTraining Loss: -0.9479% \t Validation Loss: -0.9199% \t Test Loss: -0.8981%\n",
            "\t\tTraining Accuracy: 94.97% \t Validation Accuracy: 92.15% \t Test Accuracy: 90.10%\n",
            "\n",
            "Epoch: 47 \tTraining Loss: -0.9481% \t Validation Loss: -0.9185% \t Test Loss: -0.8973%\n",
            "\t\tTraining Accuracy: 94.97% \t Validation Accuracy: 92.04% \t Test Accuracy: 90.20%\n",
            "\n",
            "Early Stopping! Total epochs: 47. Best epoch: 42 with loss: -0.92 and acc: 92.04%\n",
            "340.82 total seconds elapsed. 7.10 seconds per epoch.\n"
          ]
        }
      ]
    },
    {
      "cell_type": "code",
      "metadata": {
        "colab": {
          "background_save": true
        },
        "id": "7U7eLXHLg-8l",
        "outputId": "4142b70e-23a1-4567-f5b1-692aab1d481c"
      },
      "source": [
        "plt.figure(figsize = (12, 8))\n",
        "for c in ['train_acc', 'valid_acc', 'test_acc']:\n",
        "  plt.plot(\n",
        "      100 * (1-history[c]), label=f'{c[:-4]}_error'\n",
        "  )\n",
        "plt.legend()\n",
        "plt.xlabel('Epoch')\n",
        "plt.ylabel('Error Rate')\n",
        "plt.title('Training, validation and test error')"
      ],
      "execution_count": null,
      "outputs": [
        {
          "data": {
            "text/plain": [
              "Text(0.5, 1.0, 'Training, validation and test error')"
            ]
          },
          "execution_count": null,
          "metadata": {},
          "output_type": "execute_result"
        },
        {
          "data": {
            "image/png": "[encoded data removed]",
            "text/plain": [
              "<Figure size 864x576 with 1 Axes>"
            ]
          },
          "metadata": {},
          "output_type": "display_data"
        }
      ]
    }
  ]
}